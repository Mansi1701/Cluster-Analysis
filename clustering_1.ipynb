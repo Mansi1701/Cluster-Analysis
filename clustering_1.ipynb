{
 "cells": [
  {
   "cell_type": "code",
   "execution_count": 1,
   "metadata": {
    "slideshow": null
   },
   "outputs": [],
   "source": [
    "import seaborn as sns\n",
    "sns.set()"
   ]
  },
  {
   "cell_type": "markdown",
   "metadata": {
    "slideshow": null
   },
   "source": [
    "# Clustering"
   ]
  },
  {
   "cell_type": "markdown",
   "metadata": {
    "slideshow": null
   },
   "source": [
    "A very widely used unsupervised machine learning algorithm is clustering. It can be applied in a variety of ways, the example we will focus on will be clustering customers into segments based on their annual spending on a variety of products. **Clustering customers based on their behavior** or other characteristics is a crucial aspect that allows a business to know their market, better tailor marketing efforts, and improve product development strategies. We will revisit the data set containing wholesale customers purchasing information that contains data about customers' annual spending on different products.\n",
    "\n",
    "Let's load in the data we will be working with and inspect the first couple of rows."
   ]
  },
  {
   "cell_type": "code",
   "execution_count": 2,
   "metadata": {
    "slideshow": null
   },
   "outputs": [],
   "source": [
    "import pandas as pd\n",
    "\n"
   ]
  },
  {
   "cell_type": "code",
   "execution_count": 3,
   "metadata": {
    "slideshow": null
   },
   "outputs": [
    {
     "data": {
      "text/html": [
       "<div>\n",
       "<style scoped>\n",
       "    .dataframe tbody tr th:only-of-type {\n",
       "        vertical-align: middle;\n",
       "    }\n",
       "\n",
       "    .dataframe tbody tr th {\n",
       "        vertical-align: top;\n",
       "    }\n",
       "\n",
       "    .dataframe thead th {\n",
       "        text-align: right;\n",
       "    }\n",
       "</style>\n",
       "<table border=\"1\" class=\"dataframe\">\n",
       "  <thead>\n",
       "    <tr style=\"text-align: right;\">\n",
       "      <th></th>\n",
       "      <th>Channel</th>\n",
       "      <th>Region</th>\n",
       "      <th>Fresh</th>\n",
       "      <th>Milk</th>\n",
       "      <th>Grocery</th>\n",
       "      <th>Frozen</th>\n",
       "      <th>Detergents_Paper</th>\n",
       "      <th>Delicatessen</th>\n",
       "    </tr>\n",
       "  </thead>\n",
       "  <tbody>\n",
       "    <tr>\n",
       "      <th>0</th>\n",
       "      <td>0</td>\n",
       "      <td>3</td>\n",
       "      <td>12669</td>\n",
       "      <td>9656</td>\n",
       "      <td>7561</td>\n",
       "      <td>214</td>\n",
       "      <td>2674</td>\n",
       "      <td>1338</td>\n",
       "    </tr>\n",
       "    <tr>\n",
       "      <th>1</th>\n",
       "      <td>0</td>\n",
       "      <td>3</td>\n",
       "      <td>7057</td>\n",
       "      <td>9810</td>\n",
       "      <td>9568</td>\n",
       "      <td>1762</td>\n",
       "      <td>3293</td>\n",
       "      <td>1776</td>\n",
       "    </tr>\n",
       "    <tr>\n",
       "      <th>2</th>\n",
       "      <td>0</td>\n",
       "      <td>3</td>\n",
       "      <td>6353</td>\n",
       "      <td>8808</td>\n",
       "      <td>7684</td>\n",
       "      <td>2405</td>\n",
       "      <td>3516</td>\n",
       "      <td>7844</td>\n",
       "    </tr>\n",
       "    <tr>\n",
       "      <th>3</th>\n",
       "      <td>1</td>\n",
       "      <td>3</td>\n",
       "      <td>13265</td>\n",
       "      <td>1196</td>\n",
       "      <td>4221</td>\n",
       "      <td>6404</td>\n",
       "      <td>507</td>\n",
       "      <td>1788</td>\n",
       "    </tr>\n",
       "    <tr>\n",
       "      <th>4</th>\n",
       "      <td>0</td>\n",
       "      <td>3</td>\n",
       "      <td>22615</td>\n",
       "      <td>5410</td>\n",
       "      <td>7198</td>\n",
       "      <td>3915</td>\n",
       "      <td>1777</td>\n",
       "      <td>5185</td>\n",
       "    </tr>\n",
       "  </tbody>\n",
       "</table>\n",
       "</div>"
      ],
      "text/plain": [
       "   Channel  Region  Fresh  Milk  Grocery  Frozen  Detergents_Paper  \\\n",
       "0        0       3  12669  9656     7561     214              2674   \n",
       "1        0       3   7057  9810     9568    1762              3293   \n",
       "2        0       3   6353  8808     7684    2405              3516   \n",
       "3        1       3  13265  1196     4221    6404               507   \n",
       "4        0       3  22615  5410     7198    3915              1777   \n",
       "\n",
       "   Delicatessen  \n",
       "0          1338  \n",
       "1          1776  \n",
       "2          7844  \n",
       "3          1788  \n",
       "4          5185  "
      ]
     },
     "execution_count": 3,
     "metadata": {},
     "output_type": "execute_result"
    }
   ],
   "source": [
    "df_wholesale = pd.read_csv('data/Wholesale_customers.csv')\n",
    "df_wholesale.head()"
   ]
  },
  {
   "cell_type": "markdown",
   "metadata": {
    "slideshow": null
   },
   "source": [
    "The '`Channel`' describes whether a customer is a hotel/restaurant/cafe or not and '`Region`' describes where they are from. For the purpose of clustering our customers we will only focus on their spending habits, so we will only use  information about customers annual spending (reported in euros) on fresh products, milk products, grocery, frozen products, detergents and paper products, and delicatessen products."
   ]
  },
  {
   "cell_type": "code",
   "execution_count": 4,
   "metadata": {
    "slideshow": null
   },
   "outputs": [
    {
     "data": {
      "text/html": [
       "<div>\n",
       "<style scoped>\n",
       "    .dataframe tbody tr th:only-of-type {\n",
       "        vertical-align: middle;\n",
       "    }\n",
       "\n",
       "    .dataframe tbody tr th {\n",
       "        vertical-align: top;\n",
       "    }\n",
       "\n",
       "    .dataframe thead th {\n",
       "        text-align: right;\n",
       "    }\n",
       "</style>\n",
       "<table border=\"1\" class=\"dataframe\">\n",
       "  <thead>\n",
       "    <tr style=\"text-align: right;\">\n",
       "      <th></th>\n",
       "      <th>Fresh</th>\n",
       "      <th>Milk</th>\n",
       "      <th>Grocery</th>\n",
       "      <th>Frozen</th>\n",
       "      <th>Detergents_Paper</th>\n",
       "      <th>Delicatessen</th>\n",
       "    </tr>\n",
       "  </thead>\n",
       "  <tbody>\n",
       "    <tr>\n",
       "      <th>0</th>\n",
       "      <td>12669</td>\n",
       "      <td>9656</td>\n",
       "      <td>7561</td>\n",
       "      <td>214</td>\n",
       "      <td>2674</td>\n",
       "      <td>1338</td>\n",
       "    </tr>\n",
       "    <tr>\n",
       "      <th>1</th>\n",
       "      <td>7057</td>\n",
       "      <td>9810</td>\n",
       "      <td>9568</td>\n",
       "      <td>1762</td>\n",
       "      <td>3293</td>\n",
       "      <td>1776</td>\n",
       "    </tr>\n",
       "    <tr>\n",
       "      <th>2</th>\n",
       "      <td>6353</td>\n",
       "      <td>8808</td>\n",
       "      <td>7684</td>\n",
       "      <td>2405</td>\n",
       "      <td>3516</td>\n",
       "      <td>7844</td>\n",
       "    </tr>\n",
       "    <tr>\n",
       "      <th>3</th>\n",
       "      <td>13265</td>\n",
       "      <td>1196</td>\n",
       "      <td>4221</td>\n",
       "      <td>6404</td>\n",
       "      <td>507</td>\n",
       "      <td>1788</td>\n",
       "    </tr>\n",
       "    <tr>\n",
       "      <th>4</th>\n",
       "      <td>22615</td>\n",
       "      <td>5410</td>\n",
       "      <td>7198</td>\n",
       "      <td>3915</td>\n",
       "      <td>1777</td>\n",
       "      <td>5185</td>\n",
       "    </tr>\n",
       "  </tbody>\n",
       "</table>\n",
       "</div>"
      ],
      "text/plain": [
       "   Fresh  Milk  Grocery  Frozen  Detergents_Paper  Delicatessen\n",
       "0  12669  9656     7561     214              2674          1338\n",
       "1   7057  9810     9568    1762              3293          1776\n",
       "2   6353  8808     7684    2405              3516          7844\n",
       "3  13265  1196     4221    6404               507          1788\n",
       "4  22615  5410     7198    3915              1777          5185"
      ]
     },
     "execution_count": 4,
     "metadata": {},
     "output_type": "execute_result"
    }
   ],
   "source": [
    "df_spending = df_wholesale.iloc[:, 2:]\n",
    "df_spending.head()"
   ]
  },
  {
   "cell_type": "markdown",
   "metadata": {
    "slideshow": null
   },
   "source": [
    "We want to get a general idea of what kinds of customers we have in this data. To do so, our plan will be to organize this data into groups, such that customers in the same group are more similar to one another than they are to customers in other groups. Then, we might see, for instance, that one group tends to buy a lot of milk products and not many detergents and paper products. Based on these preferences, we can obtain some insight into defining characteristics of our customer base. \n",
    "\n",
    "Clustering is *not* classification. There are no true values we're trying to predict, and we don't know how many groups are appropriate to identify in the data. Instead, clustering gives us a set of methods for defining clusters and a set of metrics for evaluating how well those clusters partition the data, and it is left to us as data scientists to assess the clusters and find insights. There are many different clustering techniques that take a variety of approaches to solve the problem, so in this notebook we will cover only the basics of clustering, but it should be enough to get you started."
   ]
  },
  {
   "cell_type": "markdown",
   "metadata": {
    "slideshow": null
   },
   "source": [
    "## K-Means clustering"
   ]
  },
  {
   "cell_type": "markdown",
   "metadata": {
    "slideshow": null
   },
   "source": [
    "K-Means is one of the simplest clustering algorithms which allows us to identify clusters of data points within our data. We define the number of clusters we want to find and the algorithm identifies which data points belong to each cluster based on similarity (or distance measured in feature space) between data points. \n",
    "\n",
    "Before we apply K-Means to our customers data, let's first look at a toy example of clustering on example data that only has two features. Below we generate the data, we will use `np.random.normal` function to create three clusters of normally distributed points in 2 dimensions."
   ]
  },
  {
   "cell_type": "code",
   "execution_count": 5,
   "metadata": {
    "slideshow": null
   },
   "outputs": [
    {
     "data": {
      "image/png": "[encoded data removed]",
      "text/plain": [
       "<Figure size 640x480 with 1 Axes>"
      ]
     },
     "metadata": {},
     "output_type": "display_data"
    }
   ],
   "source": [
    "# Generate a blob of points\n",
    "import numpy as np\n",
    "from matplotlib import pylab as plt\n",
    "\n",
    "np.random.seed(42)\n",
    "toy_data = np.vstack((np.random.normal(0, 0.5, (100, 2)) + np.array([0, 1.2]),\n",
    "                np.random.normal(0, 0.5, (100, 2)) + np.array([-0.7, -0.7]),\n",
    "                np.random.normal(0, 0.5, (100, 2)) + np.array([0.7, -0.7])))\n",
    "\n",
    "plt.scatter(*toy_data.T, c='0.5', s=20)\n",
    "plt.title('Toy Example Data with Only Two Features')\n",
    "plt.xlabel('Feature 1')\n",
    "plt.ylabel('Feature 2');"
   ]
  },
  {
   "cell_type": "markdown",
   "metadata": {
    "slideshow": null
   },
   "source": [
    "Let's find 3 clusters in this data. We will import scikit-learn's `KMeans` and train it."
   ]
  },
  {
   "cell_type": "code",
   "execution_count": 6,
   "metadata": {
    "slideshow": null
   },
   "outputs": [
    {
     "data": {
      "text/plain": [
       "KMeans(n_clusters=6)"
      ]
     },
     "execution_count": 6,
     "metadata": {},
     "output_type": "execute_result"
    }
   ],
   "source": [
    "from sklearn.cluster import KMeans\n",
    "\n",
    "km = KMeans(n_clusters=6)\n",
    "km.fit(toy_data)"
   ]
  },
  {
   "cell_type": "markdown",
   "metadata": {
    "slideshow": null
   },
   "source": [
    "Now we have a fitted `KMeans` model which has several attributes, one of the very useful ones is `cluster_centers_` which contains the centers of the obtained clusters. Can you explain why the output of the cell below has 3 rows and 2 columns?"
   ]
  },
  {
   "cell_type": "code",
   "execution_count": 7,
   "metadata": {
    "slideshow": null
   },
   "outputs": [
    {
     "data": {
      "text/plain": [
       "array([[ 0.68792241, -1.16101235],\n",
       "       [-0.29045259,  0.925514  ],\n",
       "       [-0.94927532, -0.75662043],\n",
       "       [ 0.15228507,  1.60811533],\n",
       "       [ 1.09505522, -0.24383518],\n",
       "       [-0.08797747, -0.48315401]])"
      ]
     },
     "execution_count": 7,
     "metadata": {},
     "output_type": "execute_result"
    }
   ],
   "source": [
    "km.cluster_centers_"
   ]
  },
  {
   "cell_type": "markdown",
   "metadata": {
    "slideshow": null
   },
   "source": [
    "Let's plot the data again, this time together with the obtained cluster centers. We have defined a function which plots the data points and colors them according to their assigned clusters. We wrote it such that we can use it with a slider that will allow us to see how the center clusters migrate to their final position during fitting of the model."
   ]
  },
  {
   "cell_type": "code",
   "execution_count": 1,
   "metadata": {
    "slideshow": null
   },
   "outputs": [
    {
     "ename": "ModuleNotFoundError",
     "evalue": "No module named 'pylib.plotting'",
     "output_type": "error",
     "traceback": [
      "\u001b[1;31m---------------------------------------------------------------------------\u001b[0m",
      "\u001b[1;31mModuleNotFoundError\u001b[0m                       Traceback (most recent call last)",
      "Input \u001b[1;32mIn [1]\u001b[0m, in \u001b[0;36m<cell line: 2>\u001b[1;34m()\u001b[0m\n\u001b[0;32m      1\u001b[0m \u001b[38;5;28;01mfrom\u001b[39;00m \u001b[38;5;21;01mipywidgets\u001b[39;00m \u001b[38;5;28;01mimport\u001b[39;00m interact\n\u001b[1;32m----> 2\u001b[0m \u001b[38;5;28;01mfrom\u001b[39;00m \u001b[38;5;21;01mpylib\u001b[39;00m\u001b[38;5;21;01m.\u001b[39;00m\u001b[38;5;21;01mplotting\u001b[39;00m \u001b[38;5;28;01mimport\u001b[39;00m plot_kmeans\n\u001b[0;32m      4\u001b[0m interact(plot_kmeans(toy_data, n\u001b[38;5;241m=\u001b[39m\u001b[38;5;241m5\u001b[39m), train_steps\u001b[38;5;241m=\u001b[39m(\u001b[38;5;241m0\u001b[39m, \u001b[38;5;241m11\u001b[39m, \u001b[38;5;241m1\u001b[39m))\n",
      "\u001b[1;31mModuleNotFoundError\u001b[0m: No module named 'pylib.plotting'"
     ]
    }
   ],
   "source": [
    "from ipywidgets import interact\n",
    "from pylib.plotting import plot_kmeans\n",
    "\n",
    "interact(plot_kmeans(toy_data, n=5), train_steps=(0, 11, 1));"
   ]
  },
  {
   "cell_type": "markdown",
   "metadata": {
    "slideshow": null
   },
   "source": [
    "The way that the training of a K-Means model works is we start with cluster centers at random positions. Then at every iteration step each data point is assigned to the cluster whose center is closest to the data point. After all points are assigned a cluster, new cluster centers are computed as centroids of current clusters. After this is repeated several times, the algorithm converges to final centroid positions."
   ]
  },
  {
   "cell_type": "markdown",
   "metadata": {
    "slideshow": null
   },
   "source": [
    "### K-Means in mathematical terms"
   ]
  },
  {
   "cell_type": "markdown",
   "metadata": {
    "slideshow": null
   },
   "source": [
    "In mathematical terms we could write this in the following way: A K-Means model assigns a collection of clusters $C = \\{C_1, C_2, \\dots, C_K\\}$ that minimizes\n",
    "\n",
    "$$ \\mbox{argmin}_C \\sum_{k=1}^K \\sum_{X_j \\in C_k} \\| X_{j} - \\mu_k \\|^2 $$\n",
    "\n",
    "where $\\mu_k$ is the center of the points of cluster $C_k$. The model is trained by first initializing $\\mu_k$ to some values (can be random values) and then by iterating over the following two steps:\n",
    "\n",
    "1. Assign $X_{j}$ to the cluster $C_k$ that minimizes $\\|X_{j} - \\mu_k\\|^2$.\n",
    "1. Recompute $\\mu_k$ by averaging over all the points $X_{j}$ in the cluster $C_k$.\n",
    "\n",
    "Notice that both iterative steps lower the objective (the algorithm is greedy) and there are only a finite number of possible partitions of the points so the algorithm is guaranteed to converge.  But the converged solution may not be globally optimal. Note, by default, `KMeans` runs the clustering algorithm ten times with different centroid seeds, taking the best result, in terms of inertia (defined below), of the runs. The number of runs is controlled by `n_init`."
   ]
  },
  {
   "cell_type": "code",
   "execution_count": 9,
   "metadata": {},
   "outputs": [
    {
     "data": {
      "text/plain": [
       "KMeans(n_clusters=2)"
      ]
     },
     "execution_count": 9,
     "metadata": {},
     "output_type": "execute_result"
    }
   ],
   "source": [
    "from sklearn.cluster import KMeans\n",
    "\n",
    "km = KMeans(n_clusters=2)\n",
    "km.fit(toy_data)"
   ]
  },
  {
   "cell_type": "code",
   "execution_count": 10,
   "metadata": {
    "scrolled": true
   },
   "outputs": [
    {
     "data": {
      "image/png": "[encoded data removed]",
      "text/plain": [
       "<Figure size 640x480 with 1 Axes>"
      ]
     },
     "metadata": {},
     "output_type": "display_data"
    }
   ],
   "source": [
    "from matplotlib import pylab as plt\n",
    "        \n",
    "colors = ['#ba2121ff', '#42a5f5ff']\n",
    "centers = km.cluster_centers_.T\n",
    "cols = [colors[label] for label in km.labels_]\n",
    "plt.scatter(*toy_data.T, s=20, c=cols)\n",
    "plt.scatter(*centers, c=colors, marker='*', s=150,\n",
    "            linewidth=1, edgecolors='k')\n",
    "plt.axis('image')\n",
    "plt.title('Toy Example Data  - KMeans with 2 clusters')\n",
    "plt.xlabel('Feature 1')\n",
    "plt.ylabel('Feature 2');"
   ]
  },
  {
   "cell_type": "markdown",
   "metadata": {
    "slideshow": null
   },
   "source": [
    "## Metrics for clustering"
   ]
  },
  {
   "cell_type": "markdown",
   "metadata": {
    "slideshow": null
   },
   "source": [
    "In the two-dimensional toy example above, the data has only two features, so it is easy to visually assess the validity of the clusters. As a result, we can tell that 3 clusters seems like a reasonable number for fitting the pattern of our data. But how can we evaluate the results of a clustering algorithm if we have more than 2 or 3 features and we can not visualize the data as easily? In particular, how do we know how many clusters to identify? \n",
    "\n",
    "We need clustering metrics! Just like in the case of supervised learning, the appropriate clustering error metrics give us a way to compare goodness-of-fit for different models. \n",
    "\n",
    "There are many metrics for clustering, we will focus on two of the most common ones: inertia and silhouette. "
   ]
  },
  {
   "cell_type": "markdown",
   "metadata": {
    "slideshow": null
   },
   "source": [
    "### Inertia"
   ]
  },
  {
   "cell_type": "markdown",
   "metadata": {
    "slideshow": null
   },
   "source": [
    "The simplest metric for clustering is **inertia** which is based on the distance from each data point to the center of the cluster to which it is assigned.\n",
    " Let $\\mu_k$ be the mean of all data points in cluster $k$ (therefore $\\mu_k$ is the centroid of cluster $k$) i.e. for all elements $X_{j} \\in C_k$,\n",
    " \n",
    "$$\\mu_k = \\frac{1}{|C_k|} \\sum_{X_{j} \\in C_k} X_{j}.$$\n",
    "\n",
    "\n",
    "Then, for each cluster, the inertia is given by the average squared distance between each point in the cluster $X_{j} \\in C_k$ and the center $\\mu_k$\n",
    "\n",
    "$$i_k = \\frac{1}{|C_k|} \\sum_{X_{j} \\in C_k} \\| X_{j} - \\mu_k\\|^2\\,$$\n",
    "\n",
    "\n",
    "and the total inertia is defined as the sum of the inertia of each cluster:\n",
    "$$I = \\sum_k i_k.$$\n",
    "\n",
    "![inertia](images/clustering_inertia.svg)"
   ]
  },
  {
   "cell_type": "markdown",
   "metadata": {
    "slideshow": null
   },
   "source": [
    "### Silhouette"
   ]
  },
  {
   "cell_type": "markdown",
   "metadata": {
    "slideshow": null
   },
   "source": [
    "Another metric is called the **silhouette coefficient**. For a data point $X_j$, the silhouette coefficient can be computed as follows. Let $a_j$ be the mean distance between data point $X_j$ and all the other points in the cluster that $X_j$ belongs to. And let $b_j$ be the mean distance between data point $X_j$ and all the points in the next nearest cluster. Then the silhouette coefficient for point $X_j$ is given by\n",
    "\n",
    "$$ s_j = \\frac{b_j-a_j}{\\max(a_j, b_j)}\\,. $$\n",
    "\n",
    "When this is averaged over all the points in a given cluster, it measures how tightly grouped the points in that cluster are. When it is averaged over all points in the data set, it measures how well the data have been clustered.\n",
    "\n",
    "![silhouette](images/clustering_silhouette_coef.svg)"
   ]
  },
  {
   "cell_type": "markdown",
   "metadata": {
    "slideshow": null
   },
   "source": [
    "## Choosing the number of clusters"
   ]
  },
  {
   "cell_type": "markdown",
   "metadata": {
    "slideshow": null
   },
   "source": [
    "Now that we have clustering metrics, we can use these to assess how good our clustering model is and this can help us determine how many clusters there are in our data. \n",
    "\n",
    "Let's start by plotting inertia as a function of the number of clusters. Shown below is a plot of inertia for various numbers of clusters using our example two-dimensional data."
   ]
  },
  {
   "cell_type": "code",
   "execution_count": 11,
   "metadata": {
    "slideshow": null
   },
   "outputs": [
    {
     "data": {
      "image/png": "[encoded data removed]",
      "text/plain": [
       "<Figure size 640x480 with 1 Axes>"
      ]
     },
     "metadata": {},
     "output_type": "display_data"
    }
   ],
   "source": [
    "inertias = []\n",
    "\n",
    "for n_clusters in range(2, 15):\n",
    "    km = KMeans(n_clusters=n_clusters).fit(toy_data)\n",
    "    inertias.append(km.inertia_)\n",
    "    \n",
    "plt.plot(range(2, 15), inertias, 'k')\n",
    "plt.title(\"Inertia vs Number of Clusters\")\n",
    "plt.xlabel(\"Number of clusters\")\n",
    "plt.ylabel(\"Inertia\");"
   ]
  },
  {
   "cell_type": "markdown",
   "metadata": {
    "slideshow": null
   },
   "source": [
    "We see that inertia continues to decrease as we increase the number of clusters in the model. In fact, this is always the case! A notable downside of inertia as a model selection method (i.e. for selecting `n_clusters`) is that it continues to decrease with each additional cluster. \n",
    "\n",
    "In many cases, however, the inertia decreases most sharply for the first few clusters, and then the improvements begin to taper. In the above plot we can see this after $n=3$. This point is referred to as the \"elbow\" of the plot, and this point can sometimes be used as the appropriate number of clusters to use. But often in real world data this elbow is not so clearly defined.\n",
    "\n",
    "Other times, business constraints may impose the maximum number of clusters. For example, the location of the elbow may be at around 50 clusters but it's not practical to define 50 different types of customers for more direct ad targeting. Our budget may only allow for creating 10 specialized ads."
   ]
  },
  {
   "cell_type": "markdown",
   "metadata": {
    "slideshow": null
   },
   "source": [
    "Silhouette is much more amenable to comparing models across multiple cluster sizes because it has a fixed scale and won't always improve as `n_clusters` increases. Let's compute the silhouette score for a range of `n_clusters` values for our two-dimensional data."
   ]
  },
  {
   "cell_type": "code",
   "execution_count": 12,
   "metadata": {
    "slideshow": null
   },
   "outputs": [],
   "source": [
    "from sklearn.metrics import silhouette_score"
   ]
  },
  {
   "cell_type": "code",
   "execution_count": 13,
   "metadata": {
    "slideshow": null
   },
   "outputs": [
    {
     "name": "stdout",
     "output_type": "stream",
     "text": [
      "For n_clusters = 2, the average silhouette_score is : 0.49401\n",
      "For n_clusters = 3, the average silhouette_score is : 0.49921\n",
      "For n_clusters = 4, the average silhouette_score is : 0.41813\n",
      "For n_clusters = 5, the average silhouette_score is : 0.37237\n",
      "For n_clusters = 6, the average silhouette_score is : 0.34504\n",
      "For n_clusters = 7, the average silhouette_score is : 0.34659\n",
      "For n_clusters = 8, the average silhouette_score is : 0.3446\n"
     ]
    }
   ],
   "source": [
    "for n_clusters in range(2, 9):\n",
    "    km = KMeans(n_clusters=n_clusters)\n",
    "    km.fit(toy_data)\n",
    "    \n",
    "    # Predict the cluster for each data point\n",
    "    preds = km.predict(toy_data)\n",
    "\n",
    "    # Calculate the mean silhouette coefficient for the number of clusters chosen\n",
    "    score = silhouette_score(toy_data, preds, metric='euclidean')\n",
    "    print('For n_clusters = {}, the average silhouette_score is : {}'\n",
    "          .format(n_clusters, score.round(5)))"
   ]
  },
  {
   "cell_type": "markdown",
   "metadata": {
    "slideshow": null
   },
   "source": [
    "Notice that the silhouette score is highest for $n=3$ (although $n=2$ is quite similar as well) and $n=3$ matches how we constructed this data and what we observed through visual inspection."
   ]
  },
  {
   "cell_type": "markdown",
   "metadata": {
    "slideshow": null
   },
   "source": [
    "## Clustering on customers data"
   ]
  },
  {
   "cell_type": "markdown",
   "metadata": {
    "slideshow": null
   },
   "source": [
    "Now we are ready to fit a K-Means model to our customers' data. Let's prepare the data before we feed it into the clustering algorithm. We will first filter out any outliers from the data. Outliers are not such a big problem in this data set, but the results will improve if we make this the first step. We will import and use a function that detects outliers and filters them out. We defined this function in a separate script (for those interested in more you can find it the `pylib` folder)."
   ]
  },
  {
   "cell_type": "code",
   "execution_count": 14,
   "metadata": {
    "slideshow": null
   },
   "outputs": [],
   "source": [
    "from pylib.outliers import filter_outliers\n",
    "\n",
    "df_spending_cleaned = filter_outliers(df_spending)"
   ]
  },
  {
   "cell_type": "code",
   "execution_count": 15,
   "metadata": {
    "slideshow": null
   },
   "outputs": [
    {
     "name": "stdout",
     "output_type": "stream",
     "text": [
      "Number of rows before cleaning: 434\n",
      "Number of rows after cleaning: 397\n"
     ]
    }
   ],
   "source": [
    "print(f'Number of rows before cleaning: {df_spending.shape[0]}')\n",
    "print(f'Number of rows after cleaning: {df_spending_cleaned.shape[0]}')"
   ]
  },
  {
   "cell_type": "markdown",
   "metadata": {
    "slideshow": null
   },
   "source": [
    "### Scale your data"
   ]
  },
  {
   "cell_type": "markdown",
   "metadata": {
    "slideshow": null
   },
   "source": [
    "Remember that K-Means clustering uses the distance between points to define clusters. This means that all features should be scaled such that their units are comparable. Otherwise, certain features may seem artificially to have more variance than others. \n",
    "\n",
    "In the case of the customers data set, all our features (annual spending on different products) are measured in the same units, so it could actually happen that scaling the data in this case would mean losing important information. This is something we need to be careful about and check. In this particular case it turns out that whether we scale the data with scikit-learn's `StandardScaler` transformer or not doesn't impact the results very much. We will scale the data here nevertheless, but again this step is even more important when dealing with features that are using units that are not comparable (for example customer income and customer age).\n",
    "\n",
    "We will scale the data with scikit-learn's `StandardScaler` transformer. As we know, it centers each feature around its mean and scales it by dividing by that feature's standard deviation. "
   ]
  },
  {
   "cell_type": "code",
   "execution_count": 16,
   "metadata": {
    "slideshow": null
   },
   "outputs": [
    {
     "data": {
      "text/html": [
       "<div>\n",
       "<style scoped>\n",
       "    .dataframe tbody tr th:only-of-type {\n",
       "        vertical-align: middle;\n",
       "    }\n",
       "\n",
       "    .dataframe tbody tr th {\n",
       "        vertical-align: top;\n",
       "    }\n",
       "\n",
       "    .dataframe thead th {\n",
       "        text-align: right;\n",
       "    }\n",
       "</style>\n",
       "<table border=\"1\" class=\"dataframe\">\n",
       "  <thead>\n",
       "    <tr style=\"text-align: right;\">\n",
       "      <th></th>\n",
       "      <th>Fresh</th>\n",
       "      <th>Milk</th>\n",
       "      <th>Grocery</th>\n",
       "      <th>Frozen</th>\n",
       "      <th>Detergents_Paper</th>\n",
       "      <th>Delicatessen</th>\n",
       "    </tr>\n",
       "  </thead>\n",
       "  <tbody>\n",
       "    <tr>\n",
       "      <th>0</th>\n",
       "      <td>0.155679</td>\n",
       "      <td>1.504403</td>\n",
       "      <td>0.285557</td>\n",
       "      <td>-0.783649</td>\n",
       "      <td>0.238210</td>\n",
       "      <td>0.101340</td>\n",
       "    </tr>\n",
       "    <tr>\n",
       "      <th>1</th>\n",
       "      <td>-0.389173</td>\n",
       "      <td>1.547533</td>\n",
       "      <td>0.666579</td>\n",
       "      <td>-0.274419</td>\n",
       "      <td>0.470146</td>\n",
       "      <td>0.440277</td>\n",
       "    </tr>\n",
       "    <tr>\n",
       "      <th>2</th>\n",
       "      <td>-0.457522</td>\n",
       "      <td>1.266906</td>\n",
       "      <td>0.308908</td>\n",
       "      <td>-0.062897</td>\n",
       "      <td>0.553703</td>\n",
       "      <td>5.135868</td>\n",
       "    </tr>\n",
       "    <tr>\n",
       "      <th>3</th>\n",
       "      <td>0.213542</td>\n",
       "      <td>-0.864959</td>\n",
       "      <td>-0.348530</td>\n",
       "      <td>1.252616</td>\n",
       "      <td>-0.573752</td>\n",
       "      <td>0.449563</td>\n",
       "    </tr>\n",
       "    <tr>\n",
       "      <th>4</th>\n",
       "      <td>1.121304</td>\n",
       "      <td>0.315241</td>\n",
       "      <td>0.216643</td>\n",
       "      <td>0.433833</td>\n",
       "      <td>-0.097891</td>\n",
       "      <td>3.078258</td>\n",
       "    </tr>\n",
       "  </tbody>\n",
       "</table>\n",
       "</div>"
      ],
      "text/plain": [
       "      Fresh      Milk   Grocery    Frozen  Detergents_Paper  Delicatessen\n",
       "0  0.155679  1.504403  0.285557 -0.783649          0.238210      0.101340\n",
       "1 -0.389173  1.547533  0.666579 -0.274419          0.470146      0.440277\n",
       "2 -0.457522  1.266906  0.308908 -0.062897          0.553703      5.135868\n",
       "3  0.213542 -0.864959 -0.348530  1.252616         -0.573752      0.449563\n",
       "4  1.121304  0.315241  0.216643  0.433833         -0.097891      3.078258"
      ]
     },
     "execution_count": 16,
     "metadata": {},
     "output_type": "execute_result"
    }
   ],
   "source": [
    "from sklearn.preprocessing import StandardScaler\n",
    "\n",
    "standard_scaler = StandardScaler()\n",
    "df_spending_cleaned_scaled = pd.DataFrame(standard_scaler.fit_transform(df_spending_cleaned),\n",
    "                                          columns=df_spending_cleaned.columns)\n",
    "df_spending_cleaned_scaled.head()"
   ]
  },
  {
   "cell_type": "markdown",
   "metadata": {
    "slideshow": null
   },
   "source": [
    "### Dimensionality reduction"
   ]
  },
  {
   "cell_type": "markdown",
   "metadata": {
    "slideshow": null
   },
   "source": [
    "Clustering algorithms and metrics tend to be computationally complex, and this complexity scales very quickly with the number of features. As such, it is very common to reduce the dimensionality of the data before feeding into a K-Means clustering algorithm. \n",
    "\n",
    "In the previous notebook we talked about principal components analysis (PCA) as a method for reducing the number of features in data while retaining as much information as possible. While our customer data set does not have that many features we will still reduce the dimensionality before we proceed, if nothing else so that we can visualize the results.\n",
    "\n",
    "Let's first perform PCA without throwing away any components, and plot the cumulative sum of the explained variance ratio so we can see how many components are required to explain a significant amount of the variation in the data."
   ]
  },
  {
   "cell_type": "code",
   "execution_count": 17,
   "metadata": {
    "slideshow": null
   },
   "outputs": [
    {
     "data": {
      "image/png": "[encoded data removed]",
      "text/plain": [
       "<Figure size 640x480 with 1 Axes>"
      ]
     },
     "metadata": {},
     "output_type": "display_data"
    }
   ],
   "source": [
    "from sklearn.decomposition import PCA\n",
    "\n",
    "pca = PCA(n_components=df_spending_cleaned_scaled.shape[1])\n",
    "\n",
    "customers_pca_transformed = pca.fit_transform(df_spending_cleaned_scaled)\n",
    "\n",
    "plt.plot(range(1, df_spending_cleaned_scaled.shape[1]+1), pca.explained_variance_ratio_.cumsum(), 'k')\n",
    "plt.xlabel(\"Number of components\")\n",
    "plt.ylabel(\"Cumulative explained variance ratio\")\n",
    "plt.title(\"Cumulative Explained Variance vs. Number of Components\");"
   ]
  },
  {
   "cell_type": "markdown",
   "metadata": {
    "slideshow": null
   },
   "source": [
    "It looks like we would need to use 4 components to capture 90% of the variance, but 3 components capture 80% and choosing 3 will lend itself to inspecting the results with a visualization. So let's use a PCA transformer that will project our data into 3D."
   ]
  },
  {
   "cell_type": "code",
   "execution_count": 18,
   "metadata": {
    "slideshow": null
   },
   "outputs": [],
   "source": [
    "pca3D = PCA(n_components=3)\n",
    "\n",
    "customers_pca_3D = pca3D.fit_transform(df_spending_cleaned_scaled)"
   ]
  },
  {
   "cell_type": "markdown",
   "metadata": {
    "slideshow": null
   },
   "source": [
    "### Finding clusters"
   ]
  },
  {
   "cell_type": "markdown",
   "metadata": {
    "slideshow": null
   },
   "source": [
    "Now let's train a K-Means model on this data for a range of `n_clusters` values and compute the silhouette score for each model."
   ]
  },
  {
   "cell_type": "code",
   "execution_count": 19,
   "metadata": {
    "slideshow": null
   },
   "outputs": [
    {
     "name": "stdout",
     "output_type": "stream",
     "text": [
      "For n_clusters = 2, the average silhouette_score is : 0.44147\n",
      "For n_clusters = 3, the average silhouette_score is : 0.41837\n",
      "For n_clusters = 4, the average silhouette_score is : 0.43308\n",
      "For n_clusters = 5, the average silhouette_score is : 0.38857\n",
      "For n_clusters = 6, the average silhouette_score is : 0.36816\n",
      "For n_clusters = 7, the average silhouette_score is : 0.372\n",
      "For n_clusters = 8, the average silhouette_score is : 0.31209\n"
     ]
    }
   ],
   "source": [
    "for n_clusters in range(2, 9):\n",
    "    km = KMeans(n_clusters=n_clusters)\n",
    "    km.fit(customers_pca_3D)\n",
    "    \n",
    "    # Predict the cluster for each data point\n",
    "    preds = km.predict(customers_pca_3D)\n",
    "\n",
    "    # Calculate the mean silhouette coefficient for the number of clusters chosen\n",
    "    score = silhouette_score(customers_pca_3D, preds, metric='euclidean')\n",
    "    print('For n_clusters = {}, the average silhouette_score is : {}'\n",
    "          .format(n_clusters, score.round(5)))"
   ]
  },
  {
   "cell_type": "markdown",
   "metadata": {
    "slideshow": null
   },
   "source": [
    "It looks like there are probably 2 clusters in the data, but we could also choose 4. Let's see what we get for 4 clusters. We will visualize the results of a K-Means clustering model with 4 clusters by plotting the 3D data we obtained after the PCA transformation and color each data point according to the cluster it belongs to. The plot below will have two sliders, play around with them to observe the data from different angles."
   ]
  },
  {
   "cell_type": "code",
   "execution_count": 20,
   "metadata": {
    "slideshow": null
   },
   "outputs": [
    {
     "data": {
      "application/vnd.jupyter.widget-view+json": {
       "model_id": "4a868bbe3af443bc8fa9a4a7bb2933ce",
       "version_major": 2,
       "version_minor": 0
      },
      "text/plain": [
       "interactive(children=(IntSlider(value=50, description='azimuth', max=300, step=10), IntSlider(value=20, descri…"
      ]
     },
     "metadata": {},
     "output_type": "display_data"
    }
   ],
   "source": [
    "from mpl_toolkits.mplot3d import Axes3D\n",
    "from ipywidgets import IntSlider\n",
    "\n",
    "n_clusters = 4\n",
    "kmeans = KMeans(n_clusters=n_clusters, n_init=10)\n",
    "kmeans.fit(customers_pca_3D)\n",
    "\n",
    "cols = kmeans.predict(customers_pca_3D)\n",
    "colors = ['#ba2121ff', '#42a5f5ff', '#efa016ff', '#000000ff', '#10bb20' ]\n",
    "centroids = kmeans.cluster_centers_\n",
    "\n",
    "def plot_rotate(az, el):\n",
    "    fig = plt.figure()\n",
    "    ax = fig.add_subplot(111, projection='3d')\n",
    "\n",
    "    ax.view_init(elev=el, azim=az)\n",
    "\n",
    "    x = customers_pca_3D[:,0]\n",
    "    y = customers_pca_3D[:,1]\n",
    "    z = customers_pca_3D[:,2]\n",
    "    ax.set_xlabel('PC 1')\n",
    "    ax.set_ylabel('PC 2')\n",
    "    ax.set_zlabel('PC 3', rotation=90, labelpad=-2)\n",
    "\n",
    "    ax.scatter(x, y, z, marker='o', s=4, color=[colors[col] for col in cols])\n",
    "\n",
    "interact(plot_rotate, az=IntSlider(min=0, max=300, step=10, value=50, description='azimuth'), \n",
    "                      el=IntSlider(min=0, max=90, step=10, value=20, description='elevation'));"
   ]
  },
  {
   "cell_type": "markdown",
   "metadata": {
    "slideshow": null
   },
   "source": [
    "### Interpreting cluster centroids"
   ]
  },
  {
   "cell_type": "markdown",
   "metadata": {
    "slideshow": null
   },
   "source": [
    "We found 4 clusters and each cluster has a centroid which corresponds to the average customer of that cluster. Because we scaled our data and used PCA on it before we fed it into a K-Means model, we need to apply inverse transformations to recover average customer information."
   ]
  },
  {
   "cell_type": "code",
   "execution_count": 21,
   "metadata": {
    "slideshow": null
   },
   "outputs": [],
   "source": [
    "# Invert PCA\n",
    "scaled_centers = pca3D.inverse_transform(centroids)\n",
    "\n",
    "# Invert standard scaler\n",
    "true_centers = standard_scaler.inverse_transform(scaled_centers)"
   ]
  },
  {
   "cell_type": "code",
   "execution_count": 22,
   "metadata": {
    "slideshow": null
   },
   "outputs": [
    {
     "data": {
      "text/html": [
       "<div>\n",
       "<style scoped>\n",
       "    .dataframe tbody tr th:only-of-type {\n",
       "        vertical-align: middle;\n",
       "    }\n",
       "\n",
       "    .dataframe tbody tr th {\n",
       "        vertical-align: top;\n",
       "    }\n",
       "\n",
       "    .dataframe thead th {\n",
       "        text-align: right;\n",
       "    }\n",
       "</style>\n",
       "<table border=\"1\" class=\"dataframe\">\n",
       "  <thead>\n",
       "    <tr style=\"text-align: right;\">\n",
       "      <th></th>\n",
       "      <th>Fresh</th>\n",
       "      <th>Milk</th>\n",
       "      <th>Grocery</th>\n",
       "      <th>Frozen</th>\n",
       "      <th>Detergents_Paper</th>\n",
       "      <th>Delicatessen</th>\n",
       "    </tr>\n",
       "  </thead>\n",
       "  <tbody>\n",
       "    <tr>\n",
       "      <th>typical customer 1</th>\n",
       "      <td>4360.560233</td>\n",
       "      <td>8608.159429</td>\n",
       "      <td>13315.526102</td>\n",
       "      <td>1338.363598</td>\n",
       "      <td>5758.477607</td>\n",
       "      <td>1442.857783</td>\n",
       "    </tr>\n",
       "    <tr>\n",
       "      <th>typical customer 2</th>\n",
       "      <td>24836.416603</td>\n",
       "      <td>4670.331040</td>\n",
       "      <td>6092.015926</td>\n",
       "      <td>2313.515845</td>\n",
       "      <td>1264.348930</td>\n",
       "      <td>2814.533639</td>\n",
       "    </tr>\n",
       "    <tr>\n",
       "      <th>typical customer 3</th>\n",
       "      <td>9458.667704</td>\n",
       "      <td>2319.741725</td>\n",
       "      <td>3122.022565</td>\n",
       "      <td>1745.679418</td>\n",
       "      <td>840.258061</td>\n",
       "      <td>586.388622</td>\n",
       "    </tr>\n",
       "    <tr>\n",
       "      <th>typical customer 4</th>\n",
       "      <td>13623.605869</td>\n",
       "      <td>3377.307370</td>\n",
       "      <td>3721.281035</td>\n",
       "      <td>9683.026771</td>\n",
       "      <td>547.755023</td>\n",
       "      <td>1283.453041</td>\n",
       "    </tr>\n",
       "  </tbody>\n",
       "</table>\n",
       "</div>"
      ],
      "text/plain": [
       "                           Fresh         Milk       Grocery       Frozen  \\\n",
       "typical customer 1   4360.560233  8608.159429  13315.526102  1338.363598   \n",
       "typical customer 2  24836.416603  4670.331040   6092.015926  2313.515845   \n",
       "typical customer 3   9458.667704  2319.741725   3122.022565  1745.679418   \n",
       "typical customer 4  13623.605869  3377.307370   3721.281035  9683.026771   \n",
       "\n",
       "                    Detergents_Paper  Delicatessen  \n",
       "typical customer 1       5758.477607   1442.857783  \n",
       "typical customer 2       1264.348930   2814.533639  \n",
       "typical customer 3        840.258061    586.388622  \n",
       "typical customer 4        547.755023   1283.453041  "
      ]
     },
     "execution_count": 22,
     "metadata": {},
     "output_type": "execute_result"
    }
   ],
   "source": [
    "typical_customers = pd.DataFrame(true_centers, columns=df_spending.columns, \n",
    "                                 index=['typical customer 1', 'typical customer 2', \n",
    "                                        'typical customer 3', 'typical customer 4'])\n",
    "typical_customers"
   ]
  },
  {
   "cell_type": "code",
   "execution_count": 23,
   "metadata": {},
   "outputs": [],
   "source": [
    "n_clusters = 5\n",
    "kmeans = KMeans(n_clusters=n_clusters, n_init=10)\n",
    "kmeans.fit(customers_pca_3D)\n",
    "\n",
    "centroids = kmeans.cluster_centers_"
   ]
  },
  {
   "cell_type": "code",
   "execution_count": 24,
   "metadata": {},
   "outputs": [],
   "source": [
    "# Invert PCA\n",
    "scaled_centers = pca3D.inverse_transform(centroids)\n",
    "\n",
    "# Invert standard scaler\n",
    "true_centers = standard_scaler.inverse_transform(scaled_centers)"
   ]
  },
  {
   "cell_type": "code",
   "execution_count": 25,
   "metadata": {},
   "outputs": [
    {
     "data": {
      "text/html": [
       "<div>\n",
       "<style scoped>\n",
       "    .dataframe tbody tr th:only-of-type {\n",
       "        vertical-align: middle;\n",
       "    }\n",
       "\n",
       "    .dataframe tbody tr th {\n",
       "        vertical-align: top;\n",
       "    }\n",
       "\n",
       "    .dataframe thead th {\n",
       "        text-align: right;\n",
       "    }\n",
       "</style>\n",
       "<table border=\"1\" class=\"dataframe\">\n",
       "  <thead>\n",
       "    <tr style=\"text-align: right;\">\n",
       "      <th></th>\n",
       "      <th>Fresh</th>\n",
       "      <th>Milk</th>\n",
       "      <th>Grocery</th>\n",
       "      <th>Frozen</th>\n",
       "      <th>Detergents_Paper</th>\n",
       "      <th>Delicatessen</th>\n",
       "    </tr>\n",
       "  </thead>\n",
       "  <tbody>\n",
       "    <tr>\n",
       "      <th>typical customer 1</th>\n",
       "      <td>10433.825301</td>\n",
       "      <td>2044.168488</td>\n",
       "      <td>2632.935884</td>\n",
       "      <td>1847.080587</td>\n",
       "      <td>558.466345</td>\n",
       "      <td>631.835656</td>\n",
       "    </tr>\n",
       "    <tr>\n",
       "      <th>typical customer 2</th>\n",
       "      <td>7110.919691</td>\n",
       "      <td>6045.056128</td>\n",
       "      <td>9168.397224</td>\n",
       "      <td>1171.202162</td>\n",
       "      <td>3731.660083</td>\n",
       "      <td>1168.065286</td>\n",
       "    </tr>\n",
       "    <tr>\n",
       "      <th>typical customer 3</th>\n",
       "      <td>13623.605869</td>\n",
       "      <td>3377.307370</td>\n",
       "      <td>3721.281035</td>\n",
       "      <td>9683.026771</td>\n",
       "      <td>547.755023</td>\n",
       "      <td>1283.453041</td>\n",
       "    </tr>\n",
       "    <tr>\n",
       "      <th>typical customer 4</th>\n",
       "      <td>26678.973732</td>\n",
       "      <td>4962.099792</td>\n",
       "      <td>6427.378574</td>\n",
       "      <td>2708.097497</td>\n",
       "      <td>1292.699461</td>\n",
       "      <td>3083.734543</td>\n",
       "    </tr>\n",
       "    <tr>\n",
       "      <th>typical customer 5</th>\n",
       "      <td>2086.132292</td>\n",
       "      <td>10270.018363</td>\n",
       "      <td>16049.544334</td>\n",
       "      <td>1236.193257</td>\n",
       "      <td>7130.090532</td>\n",
       "      <td>1566.840385</td>\n",
       "    </tr>\n",
       "  </tbody>\n",
       "</table>\n",
       "</div>"
      ],
      "text/plain": [
       "                           Fresh          Milk       Grocery       Frozen  \\\n",
       "typical customer 1  10433.825301   2044.168488   2632.935884  1847.080587   \n",
       "typical customer 2   7110.919691   6045.056128   9168.397224  1171.202162   \n",
       "typical customer 3  13623.605869   3377.307370   3721.281035  9683.026771   \n",
       "typical customer 4  26678.973732   4962.099792   6427.378574  2708.097497   \n",
       "typical customer 5   2086.132292  10270.018363  16049.544334  1236.193257   \n",
       "\n",
       "                    Detergents_Paper  Delicatessen  \n",
       "typical customer 1        558.466345    631.835656  \n",
       "typical customer 2       3731.660083   1168.065286  \n",
       "typical customer 3        547.755023   1283.453041  \n",
       "typical customer 4       1292.699461   3083.734543  \n",
       "typical customer 5       7130.090532   1566.840385  "
      ]
     },
     "execution_count": 25,
     "metadata": {},
     "output_type": "execute_result"
    }
   ],
   "source": [
    "typical_customers = pd.DataFrame(true_centers, columns=df_spending.columns, \n",
    "                                 index=['typical customer 1', 'typical customer 2', \n",
    "                                        'typical customer 3', 'typical customer 4',\n",
    "                                       'typical customer 5'])\n",
    "typical_customers"
   ]
  },
  {
   "cell_type": "code",
   "execution_count": 26,
   "metadata": {},
   "outputs": [],
   "source": [
    "pca2D = PCA(n_components=2)\n",
    "\n",
    "customers_pca_2D = pca2D.fit_transform(df_spending_cleaned_scaled)"
   ]
  },
  {
   "cell_type": "code",
   "execution_count": 27,
   "metadata": {},
   "outputs": [
    {
     "name": "stdout",
     "output_type": "stream",
     "text": [
      "For n_clusters = 2, the average silhouette_score is : 0.50712\n",
      "For n_clusters = 3, the average silhouette_score is : 0.45996\n",
      "For n_clusters = 4, the average silhouette_score is : 0.44027\n",
      "For n_clusters = 5, the average silhouette_score is : 0.43393\n",
      "For n_clusters = 6, the average silhouette_score is : 0.36529\n",
      "For n_clusters = 7, the average silhouette_score is : 0.37675\n",
      "For n_clusters = 8, the average silhouette_score is : 0.38811\n"
     ]
    }
   ],
   "source": [
    "from sklearn.metrics import silhouette_score\n",
    "for n_clusters in range(2, 9):\n",
    "    km = KMeans(n_clusters=n_clusters)\n",
    "    km.fit(customers_pca_2D)\n",
    "    \n",
    "    # Predict the cluster for each data point\n",
    "    preds = km.predict(customers_pca_2D)\n",
    "\n",
    "    # Calculate the mean silhouette coefficient for the number of clusters chosen\n",
    "    score = silhouette_score(customers_pca_2D, preds, metric='euclidean')\n",
    "    print('For n_clusters = {}, the average silhouette_score is : {}'\n",
    "          .format(n_clusters, score.round(5)))"
   ]
  },
  {
   "cell_type": "code",
   "execution_count": 28,
   "metadata": {},
   "outputs": [
    {
     "data": {
      "text/html": [
       "<div>\n",
       "<style scoped>\n",
       "    .dataframe tbody tr th:only-of-type {\n",
       "        vertical-align: middle;\n",
       "    }\n",
       "\n",
       "    .dataframe tbody tr th {\n",
       "        vertical-align: top;\n",
       "    }\n",
       "\n",
       "    .dataframe thead th {\n",
       "        text-align: right;\n",
       "    }\n",
       "</style>\n",
       "<table border=\"1\" class=\"dataframe\">\n",
       "  <thead>\n",
       "    <tr style=\"text-align: right;\">\n",
       "      <th></th>\n",
       "      <th>Fresh</th>\n",
       "      <th>Milk</th>\n",
       "      <th>Grocery</th>\n",
       "      <th>Frozen</th>\n",
       "      <th>Detergents_Paper</th>\n",
       "      <th>Delicatessen</th>\n",
       "    </tr>\n",
       "  </thead>\n",
       "  <tbody>\n",
       "    <tr>\n",
       "      <th>typical customer 1</th>\n",
       "      <td>12469.274472</td>\n",
       "      <td>2710.834942</td>\n",
       "      <td>3463.483455</td>\n",
       "      <td>3029.203502</td>\n",
       "      <td>767.464190</td>\n",
       "      <td>1006.800658</td>\n",
       "    </tr>\n",
       "    <tr>\n",
       "      <th>typical customer 2</th>\n",
       "      <td>7260.882272</td>\n",
       "      <td>8549.232401</td>\n",
       "      <td>13085.605590</td>\n",
       "      <td>1422.635368</td>\n",
       "      <td>5482.452196</td>\n",
       "      <td>1749.745880</td>\n",
       "    </tr>\n",
       "  </tbody>\n",
       "</table>\n",
       "</div>"
      ],
      "text/plain": [
       "                           Fresh         Milk       Grocery       Frozen  \\\n",
       "typical customer 1  12469.274472  2710.834942   3463.483455  3029.203502   \n",
       "typical customer 2   7260.882272  8549.232401  13085.605590  1422.635368   \n",
       "\n",
       "                    Detergents_Paper  Delicatessen  \n",
       "typical customer 1        767.464190   1006.800658  \n",
       "typical customer 2       5482.452196   1749.745880  "
      ]
     },
     "execution_count": 28,
     "metadata": {},
     "output_type": "execute_result"
    }
   ],
   "source": [
    "n_clusters = 2\n",
    "kmeans = KMeans(n_clusters=n_clusters, n_init=10)\n",
    "kmeans.fit(customers_pca_2D)\n",
    "\n",
    "centroids = kmeans.cluster_centers_\n",
    "scaled_centers = pca2D.inverse_transform(centroids)\n",
    "true_centers = standard_scaler.inverse_transform(scaled_centers)\n",
    "\n",
    "typical_customers = pd.DataFrame(true_centers, columns=df_spending.columns, \n",
    "                                 index=['typical customer 1', 'typical customer 2'])\n",
    "typical_customers"
   ]
  },
  {
   "cell_type": "markdown",
   "metadata": {
    "slideshow": null
   },
   "source": [
    "## Summary"
   ]
  },
  {
   "cell_type": "markdown",
   "metadata": {
    "slideshow": null
   },
   "source": [
    "- clustering is an unsupervised learning algorithm that can be useful in a variety of cases\n",
    "- K-Means is one of the simplest clustering algorithms which identifies which data point belongs to which cluster based on distance between data points\n",
    "- the main two metrics for clustering are inertia and silhouette score\n",
    "- we can find the optimum number of clusters by choosing the number of clusters with the highest silhouette score\n",
    "- it is important to scale our data before we feed it into a K-Means algorithm if the units of the features are not comparable\n",
    "- we can reduce the dimensionality of our data before we feed it into a K-Means algorithm\n",
    "- examining summary statistics of different clusters gives us actionable insights from data"
   ]
  },
  {
   "cell_type": "code",
   "execution_count": null,
   "metadata": {},
   "outputs": [],
   "source": []
  }
 ],
 "metadata": {
  "kernelspec": {
   "display_name": "Python 3 (ipykernel)",
   "language": "python",
   "name": "python3"
  },
  "language_info": {
   "codemirror_mode": {
    "name": "ipython",
    "version": 3
   },
   "file_extension": ".py",
   "mimetype": "text/x-python",
   "name": "python",
   "nbconvert_exporter": "python",
   "pygments_lexer": "ipython3",
   "version": "3.9.12"
  },
  "nbclean": true
 },
 "nbformat": 4,
 "nbformat_minor": 4
}
